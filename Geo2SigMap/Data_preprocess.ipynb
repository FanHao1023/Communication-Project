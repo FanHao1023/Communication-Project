{
 "cells": [
  {
   "cell_type": "markdown",
   "id": "a95a2f11",
   "metadata": {},
   "source": [
    "## 1. Building map pre-processing"
   ]
  },
  {
   "cell_type": "markdown",
   "id": "421cd0c3",
   "metadata": {},
   "source": [
    "Just run all the cells for building map pre-processing"
   ]
  },
  {
   "cell_type": "markdown",
   "id": "eaf827a3",
   "metadata": {},
   "source": [
    "### .png ot .npy"
   ]
  },
  {
   "cell_type": "code",
   "execution_count": null,
   "id": "c52adf9a",
   "metadata": {},
   "outputs": [],
   "source": [
    "import os\n",
    "import cv2\n",
    "import numpy as np\n",
    "import matplotlib.pyplot as plt\n",
    "\n",
    "input_folder = 'Your_Data/Building_png'\n",
    "output_folder = 'Your_Data/Building_npy'\n",
    "\n",
    "for file in os.listdir(input_folder):\n",
    "    img_path = os.path.join(input_folder, file)\n",
    "    img = cv2.imread(img_path, cv2.IMREAD_GRAYSCALE)\n",
    "    \n",
    "    base_name = os.path.splitext(file)[0]\n",
    "    new_name = base_name + '.npy'\n",
    "    \n",
    "    if img is None:\n",
    "        print(f\"Error reading {img_path}\")\n",
    "        continue\n",
    "    _, binary_img = cv2.threshold(img, 127, 255, cv2.THRESH_BINARY)\n",
    "    binary_img_array = np.array(binary_img)\n",
    "    \n",
    "    output_path = os.path.join(output_folder, new_name)\n",
    "    \n",
    "    np.save(output_path, binary_img_array)\n",
    "    print(f\"Save {new_name} to {output_path}\")\n",
    "\n",
    "print(f\"All image have been processes and saved\")"
   ]
  },
  {
   "cell_type": "markdown",
   "id": "3624dc95",
   "metadata": {},
   "source": [
    "### Crop image"
   ]
  },
  {
   "cell_type": "code",
   "execution_count": null,
   "id": "6a28890d",
   "metadata": {},
   "outputs": [],
   "source": [
    "def crop_black_border(image):\n",
    "    # 找到所有非黑色（非零）像素的位置\n",
    "    non_black_pixels = np.argwhere(image > 0)\n",
    "    \n",
    "    # 找到最小和最大坐标\n",
    "    top_left = non_black_pixels.min(axis=0)\n",
    "    bottom_right = non_black_pixels.max(axis=0)\n",
    "    \n",
    "    # 使用这些坐标裁剪图像\n",
    "    cropped_image = image[top_left[0]:bottom_right[0]+1, top_left[1]:bottom_right[1]+1]\n",
    "    \n",
    "    return cropped_image\n",
    "\n",
    "input_folder = 'Your_Data/Building_npy'\n",
    "output_folder = 'Your_Data/Building_npy'\n",
    "\n",
    "for file in os.listdir(input_folder):\n",
    "    img_path = os.path.join(input_folder, file)\n",
    "    img = np.load(img_path)\n",
    "    \n",
    "    base_name = os.path.splitext(file)[0]\n",
    "    new_name = base_name + '.npy'\n",
    "    \n",
    "    if img is None:\n",
    "        print(f\"Error reading {img_path}\")\n",
    "        continue\n",
    "        \n",
    "    cropped_image = crop_black_border(img)\n",
    "    output_path = os.path.join(output_folder, new_name)\n",
    "    \n",
    "    np.save(output_path, cropped_image)\n",
    "    print(f\"Save {new_name} to {output_path}\")\n",
    "\n",
    "print(f\"All image have been processes and saved\")"
   ]
  },
  {
   "cell_type": "markdown",
   "id": "3deff244",
   "metadata": {},
   "source": [
    "### Binary Thres"
   ]
  },
  {
   "cell_type": "code",
   "execution_count": 25,
   "id": "c72b4a9e",
   "metadata": {},
   "outputs": [],
   "source": [
    "import os\n",
    "import numpy as np\n",
    "import cv2\n",
    "import matplotlib.pyplot as plt\n",
    "\n",
    "# Define the directory containing the .npy files and the directory to save the binarized images\n",
    "input_directory = 'Your_Data/Building_npy'  # Replace with your input directory path\n",
    "output_directory = 'Your_Data/Building_npy'  # Replace with your output directory path\n",
    "\n",
    "# Create the output directory if it doesn't exist\n",
    "if not os.path.exists(output_directory):\n",
    "    os.makedirs(output_directory)\n",
    "\n",
    "# List all .npy files in the input directory\n",
    "npy_files = [f for f in os.listdir(input_directory) if f.endswith('.npy')]\n",
    "\n",
    "# Iterate through each .npy file\n",
    "for file_name in npy_files:\n",
    "    file_path = os.path.join(input_directory, file_name)\n",
    "    \n",
    "    # Step 1: Load the .npy file\n",
    "    image = np.load(file_path)\n",
    "\n",
    "    # Step 2: Apply binary thresholding\n",
    "    _, binary_image = cv2.threshold(image, 200, 255, cv2.THRESH_BINARY)\n",
    "\n",
    "    # Step 3: Save the binarized image to the output directory\n",
    "    output_file_path = os.path.join(output_directory, file_name)\n",
    "    np.save(output_file_path, binary_image)\n"
   ]
  },
  {
   "cell_type": "markdown",
   "id": "e5d23696",
   "metadata": {},
   "source": [
    "### Resize to (128, 128)"
   ]
  },
  {
   "cell_type": "code",
   "execution_count": null,
   "id": "7402ecee",
   "metadata": {},
   "outputs": [],
   "source": [
    "import os\n",
    "import numpy as np\n",
    "import cv2\n",
    "\n",
    "def resize_npy_files(input_folder, output_folder, target_size=(128, 128)):\n",
    "    if not os.path.exists(output_folder):\n",
    "        os.makedirs(output_folder)\n",
    "    \n",
    "    files = [f for f in os.listdir(input_folder) if f.endswith('.npy')]\n",
    "\n",
    "    for file in files:\n",
    "\n",
    "        input_file_path = os.path.join(input_folder, file)\n",
    "        output_file_path = os.path.join(output_folder, file)\n",
    "        \n",
    "        data = np.load(input_file_path)\n",
    "\n",
    "        if data is None:\n",
    "            print(f\"Failed to load .npy file {input_file_path}\")\n",
    "            continue\n",
    "        \n",
    "        resized_data = cv2.resize(data, target_size, interpolation=cv2.INTER_LINEAR)\n",
    "\n",
    "        np.save(output_file_path, resized_data)\n",
    "        print(f\"Processed and saved {file} as {output_file_path}\")\n",
    "\n",
    "input_folder = 'Your_Data/Building_npy'\n",
    "output_folder = 'Input_data'\n",
    "resize_npy_files(input_folder, output_folder)\n"
   ]
  },
  {
   "cell_type": "markdown",
   "id": "770f8ff8",
   "metadata": {},
   "source": [
    "## Antenna, Sparse SSmap pre-processing"
   ]
  },
  {
   "cell_type": "markdown",
   "id": "16299d19",
   "metadata": {},
   "source": [
    "Just run all the cells for Antenna, Sparse SSmap pre-processing"
   ]
  },
  {
   "cell_type": "markdown",
   "id": "61d79cd8",
   "metadata": {},
   "source": [
    "### Replace NaN, inf to -160"
   ]
  },
  {
   "cell_type": "code",
   "execution_count": 28,
   "id": "77ad7c69-ae80-447b-9c6c-62503214d889",
   "metadata": {},
   "outputs": [
    {
     "name": "stdout",
     "output_type": "stream",
     "text": [
      "Processed Sparse_SSmap_HMS_2pi.npy\n",
      "Processed Sparse_SSmap_HMS_3pid2.npy\n",
      "Processed Sparse_SSmap_HMS_3pid4.npy\n",
      "Processed Sparse_SSmap_HMS_pi.npy\n",
      "Processed Sparse_SSmap_HMS_pid2.npy\n",
      "Processed SSmap_HMS_2pi.npy\n",
      "Processed SSmap_HMS_3pid2.npy\n",
      "Processed SSmap_HMS_3pid4.npy\n",
      "Processed SSmap_HMS_pi.npy\n",
      "Processed SSmap_HMS_pid2.npy\n"
     ]
    }
   ],
   "source": [
    "import numpy as np\n",
    "import os\n",
    "\n",
    "def replace_nan_inf_in_npy(input_folder_path, output_folder_path):\n",
    "    # 如果输出文件夹不存在，则创建它\n",
    "    if not os.path.exists(output_folder_path):\n",
    "        os.makedirs(output_folder_path)\n",
    "    \n",
    "    # 获取输入文件夹中所有.npy文件\n",
    "    npy_files = [f for f in os.listdir(input_folder_path) if f.endswith('.npy')]\n",
    "    \n",
    "    for npy_file in npy_files:\n",
    "        input_file_path = os.path.join(input_folder_path, npy_file)\n",
    "        output_file_path = os.path.join(output_folder_path, npy_file)\n",
    "        \n",
    "        # 加载.npy文件\n",
    "        data = np.load(input_file_path)\n",
    "        \n",
    "        # 用-1e-9替换NaN和-inf值\n",
    "        data = np.where(np.isnan(data) | np.isinf(data), -160, data)\n",
    "        data = np.clip(data, -160, None)\n",
    "        \n",
    "        # 保存修改后的数据到新的文件夹\n",
    "        np.save(output_file_path, data)\n",
    "        print(f\"Processed {npy_file}\")\n",
    "\n",
    "# 替换为你要处理的输入文件夹路径和输出文件夹路径\n",
    "input_folder_path = 'Your_Data/Antenna_SparseSSmap_PGmap'\n",
    "output_folder_path = 'Your_Data/Antenna_SparseSSmap_PGmap'\n",
    "replace_nan_inf_in_npy(input_folder_path, output_folder_path)\n"
   ]
  },
  {
   "cell_type": "markdown",
   "id": "f473244e",
   "metadata": {},
   "source": [
    "### Resize to (128, 128)"
   ]
  },
  {
   "cell_type": "code",
   "execution_count": 29,
   "id": "717dc9b0-ea79-49bf-80f8-f968def702da",
   "metadata": {},
   "outputs": [
    {
     "name": "stdout",
     "output_type": "stream",
     "text": [
      "Processed and saved SSmap_HMS_2pi.npy as HMS/SSmap\\SSmap_HMS_2pi.npy\n",
      "Processed and saved SSmap_HMS_3pid2.npy as HMS/SSmap\\SSmap_HMS_3pid2.npy\n",
      "Processed and saved SSmap_HMS_3pid4.npy as HMS/SSmap\\SSmap_HMS_3pid4.npy\n",
      "Processed and saved SSmap_HMS_pi.npy as HMS/SSmap\\SSmap_HMS_pi.npy\n",
      "Processed and saved SSmap_HMS_pid2.npy as HMS/SSmap\\SSmap_HMS_pid2.npy\n",
      "Processed and saved Sparse_SSmap_HMS_2pi.npy as HMS/Sparse_SSmap\\Sparse_SSmap_HMS_2pi.npy\n",
      "Processed and saved Sparse_SSmap_HMS_3pid2.npy as HMS/Sparse_SSmap\\Sparse_SSmap_HMS_3pid2.npy\n",
      "Processed and saved Sparse_SSmap_HMS_3pid4.npy as HMS/Sparse_SSmap\\Sparse_SSmap_HMS_3pid4.npy\n",
      "Processed and saved Sparse_SSmap_HMS_pi.npy as HMS/Sparse_SSmap\\Sparse_SSmap_HMS_pi.npy\n",
      "Processed and saved Sparse_SSmap_HMS_pid2.npy as HMS/Sparse_SSmap\\Sparse_SSmap_HMS_pid2.npy\n"
     ]
    }
   ],
   "source": [
    "import os\n",
    "import numpy as np\n",
    "import cv2\n",
    "\n",
    "def resize_npy_files(input_folder, output_folder, target_size=(128, 128)):\n",
    "    # 如果输出文件夹不存在，则创建它\n",
    "    if not os.path.exists(output_folder):\n",
    "        os.makedirs(output_folder)\n",
    "    \n",
    "    # 获取输入文件夹中所有 .npy 文件\n",
    "    files = [f for f in os.listdir(input_folder) if f.endswith('.npy')]\n",
    "\n",
    "    for file in files:\n",
    "        # 构建文件路径\n",
    "        input_file_path = os.path.join(input_folder, file)\n",
    "        output_file_path = os.path.join(output_folder, file)\n",
    "        \n",
    "        # 读取 .npy 文件\n",
    "        data = np.load(input_file_path)\n",
    "        \n",
    "        # 检查 .npy 文件是否加载成功\n",
    "        if data is None:\n",
    "            print(f\"Failed to load .npy file {input_file_path}\")\n",
    "            continue\n",
    "        \n",
    "        # 调整大小\n",
    "        resized_data = cv2.resize(data, target_size, interpolation=cv2.INTER_LINEAR)\n",
    "        \n",
    "        # 保存为 .npy 文件\n",
    "        np.save(output_file_path, resized_data)\n",
    "        print(f\"Processed and saved {file} as {output_file_path}\")\n",
    "\n",
    "# 替换为你要处理的输入文件夹路径和输出文件夹路径\n",
    "input_folder = 'Your_Data/Antenna_SparseSSmap_PGmap'\n",
    "output_folder = 'Input_data'\n",
    "resize_npy_files(input_folder, output_folder)\n"
   ]
  }
 ],
 "metadata": {
  "kernelspec": {
   "display_name": "Python 3 (ipykernel)",
   "language": "python",
   "name": "python3"
  },
  "language_info": {
   "codemirror_mode": {
    "name": "ipython",
    "version": 3
   },
   "file_extension": ".py",
   "mimetype": "text/x-python",
   "name": "python",
   "nbconvert_exporter": "python",
   "pygments_lexer": "ipython3",
   "version": "3.12.4"
  }
 },
 "nbformat": 4,
 "nbformat_minor": 5
}
